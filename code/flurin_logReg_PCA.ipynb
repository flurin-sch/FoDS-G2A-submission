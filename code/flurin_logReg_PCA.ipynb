{
 "cells": [
  {
   "cell_type": "markdown",
   "metadata": {},
   "source": [
    "# Radiosensitivity prediction with Logistic Regression"
   ]
  },
  {
   "cell_type": "code",
   "execution_count": 1,
   "metadata": {},
   "outputs": [],
   "source": [
    "import pandas as pd\n",
    "import scipy.stats as sts\n",
    "import matplotlib.pyplot as plt\n",
    "import seaborn as sns\n",
    "import numpy as np\n",
    "\n",
    "from sklearn.metrics import accuracy_score, precision_score, recall_score, f1_score, roc_curve, auc, confusion_matrix\n",
    "from sklearn.model_selection import KFold, GridSearchCV, StratifiedKFold\n",
    "from sklearn.preprocessing import StandardScaler\n",
    "from sklearn.decomposition import PCA\n",
    "from sklearn.feature_selection import SelectKBest, f_classif, VarianceThreshold\n",
    "from sklearn.linear_model import LogisticRegression\n",
    "from sklearn.pipeline import Pipeline\n"
   ]
  },
  {
   "cell_type": "code",
   "execution_count": 2,
   "metadata": {},
   "outputs": [],
   "source": [
    "def add_identity(axes, *line_args, **line_kwargs):\n",
    "    identity, = axes.plot([], [], *line_args, **line_kwargs)\n",
    "    def callback(axes):\n",
    "        low_x, high_x = axes.get_xlim()\n",
    "        low_y, high_y = axes.get_ylim()\n",
    "        low = max(low_x, low_y)\n",
    "        high = min(high_x, high_y)\n",
    "        identity.set_data([low, high], [low, high])\n",
    "    callback(axes)\n",
    "    axes.callbacks.connect('xlim_changed', callback)\n",
    "    axes.callbacks.connect('ylim_changed', callback)\n",
    "    return axes"
   ]
  },
  {
   "cell_type": "code",
   "execution_count": 3,
   "metadata": {},
   "outputs": [],
   "source": [
    "def evaluation(clf, X, y):\n",
    "    \n",
    "    y_pred = clf.predict(X)\n",
    "    y_pred_proba = clf.decision_function(X)\n",
    "\n",
    "    fp_rates, tp_rates, _ = roc_curve(y, y_pred_proba)\n",
    "    #ax.plot(fp_rates, tp_rates, label = str(fold))\n",
    "    roc_auc = auc(fp_rates, tp_rates)\n",
    "\n",
    "    accuracy  = accuracy_score(y, y_pred)\n",
    "    precision = precision_score(y, y_pred)\n",
    "    recall    = recall_score(y, y_pred)\n",
    "    f1        = f1_score(y, y_pred)\n",
    "    roc_auc   = auc(fp_rates, tp_rates)\n",
    "    confusion = confusion_matrix(y, y_pred)\n",
    "\n",
    "    return [accuracy, precision, recall, f1, roc_auc, fp_rates, tp_rates, confusion]"
   ]
  },
  {
   "cell_type": "markdown",
   "metadata": {},
   "source": [
    "## Preprocessing"
   ]
  },
  {
   "cell_type": "code",
   "execution_count": 4,
   "metadata": {},
   "outputs": [],
   "source": [
    "sample_info = pd.read_csv('../data/sample_info.csv')\n",
    "radiosensitivity = pd.read_csv('../data/radiosensitivity.csv')\n",
    "expression = pd.read_csv('../data/expressionData.csv')"
   ]
  },
  {
   "cell_type": "markdown",
   "metadata": {},
   "source": [
    "### Assigning classes to the label"
   ]
  },
  {
   "cell_type": "code",
   "execution_count": 5,
   "metadata": {},
   "outputs": [],
   "source": [
    "sc = StandardScaler()\n",
    "radiosensitivity['sf2_scaled'] = sc.fit_transform(np.asarray(radiosensitivity['SF2']).reshape(-1,1))\n",
    "\n",
    "std = radiosensitivity['sf2_scaled'].std()\n",
    "mean = radiosensitivity['sf2_scaled'].mean()\n",
    "\n",
    "for i in range(radiosensitivity.shape[0]):\n",
    "    if radiosensitivity.at[i, 'sf2_scaled'] < mean - std * 0.8:\n",
    "        radiosensitivity.at[i, 'Sensitivity'] = 'sensitive'\n",
    "    elif radiosensitivity.at[i, 'sf2_scaled'] > mean + std * 0.8:\n",
    "        radiosensitivity.at[i, 'Sensitivity'] = 'resistant'\n",
    "    else:\n",
    "        radiosensitivity.at[i, 'Sensitivity'] = 'intermediate'\n",
    "\n",
    "data = pd.merge(radiosensitivity[['cell_line_name', 'Sensitivity']], expression, on='cell_line_name', how='inner')\n",
    "data = pd.merge(data, sample_info[['cell_line_name', 'lineage']], left_on='cell_line_name', right_on='cell_line_name', how='inner')"
   ]
  },
  {
   "cell_type": "code",
   "execution_count": 6,
   "metadata": {},
   "outputs": [
    {
     "name": "stderr",
     "output_type": "stream",
     "text": [
      "/scratch/tmp.32618.fschindele/ipykernel_2501355/3187357292.py:1: FutureWarning: Downcasting behavior in `replace` is deprecated and will be removed in a future version. To retain the old behavior, explicitly call `result.infer_objects(copy=False)`. To opt-in to the future behavior, set `pd.set_option('future.no_silent_downcasting', True)`\n",
      "  data['Sensitivity'] = data['Sensitivity'].replace({'sensitive': 1, 'resistant': 0, 'intermediate': 2})\n"
     ]
    }
   ],
   "source": [
    "data['Sensitivity'] = data['Sensitivity'].replace({'sensitive': 1, 'resistant': 0, 'intermediate': 2})\n",
    "data = data.drop(data[data.Sensitivity == 2].index)\n",
    "data.drop(columns=['cell_line_name'], inplace=True)"
   ]
  },
  {
   "cell_type": "code",
   "execution_count": 7,
   "metadata": {},
   "outputs": [],
   "source": [
    "y = data['Sensitivity']\n",
    "X = data.drop(columns=['Sensitivity'])"
   ]
  },
  {
   "cell_type": "code",
   "execution_count": 8,
   "metadata": {},
   "outputs": [],
   "source": [
    "cat_cols = ['lineage']\n",
    "num_cols = X.loc[:, X.dtypes == 'float64'].columns.values\n",
    "lineage = pd.DataFrame(X['lineage'])\n",
    "lineage = pd.get_dummies(lineage, columns=cat_cols, drop_first=True, dtype=int)"
   ]
  },
  {
   "cell_type": "markdown",
   "metadata": {},
   "source": [
    "## ML models"
   ]
  },
  {
   "cell_type": "markdown",
   "metadata": {
    "jp-MarkdownHeadingCollapsed": true,
    "tags": []
   },
   "source": [
    "### LR, PCA + lineage, 10-fold CV"
   ]
  },
  {
   "cell_type": "raw",
   "metadata": {
    "vscode": {
     "languageId": "raw"
    }
   },
   "source": [
    "cv = KFold(n_splits = 10, shuffle = True, random_state=2024)\n",
    "fold = 1\n",
    "\n",
    "metrics = {'accuracy': [], 'precision': [], 'recall': [], 'f1': [], 'ROC AUC': [], 'C': []}\n",
    "fig, ax = plt.subplots(1,1, figsize=(6,6))\n",
    "ax.set(title= 'ROC AUC',\n",
    "       xlabel = 'FPR',\n",
    "       ylabel ='TPR')\n",
    "add_identity(ax, color=\"r\", ls=\"--\",label = 'random\\nclassifier')\n",
    "ax.legend(frameon=False, loc='lower right', title='Fold:')\n",
    "\n",
    "for train_index, test_index in cv.split(X, y):\n",
    "    print(f\"Working on fold {fold}\")\n",
    "    X_train, X_test = X.iloc[train_index], X.iloc[test_index]\n",
    "    y_train, y_test = y.iloc[train_index], y.iloc[test_index]\n",
    "\n",
    "    # perform PCA\n",
    "    X_train, X_test = X_train.drop(columns=['lineage']), X_test.drop(columns=['lineage'])\n",
    "    lineage_train, lineage_test = lineage.iloc[train_index], lineage.iloc[test_index]\n",
    "\n",
    "    pca = PCA(random_state=0)\n",
    "    X_train = pd.DataFrame(pca.fit_transform(X_train), \n",
    "                           columns=['PCA%i' % i + '1' for i in range(pca.n_components_)], index=X_train.index)\n",
    "    X_test = pd.DataFrame(pca.transform(X_test), \n",
    "                          columns=['PCA%i' % i + '1' for i in range(pca.n_components_)], index=X_test.index)\n",
    "    \n",
    "    X_train, X_test = pd.concat([X_train, lineage_train], axis=1), pd.concat([X_test, lineage_test], axis=1)\n",
    "\n",
    "    params = {'C': 10**np.linspace(0, -8, 100) / y_train.std()}\n",
    "    #print(params)\n",
    "    #print(y_train.std())\n",
    "\n",
    "    clf = LogisticRegression(penalty='l2', random_state=0, solver='liblinear')\n",
    "    clf_GS = GridSearchCV(clf, params, cv=cv)\n",
    "    clf_GS.fit(X_train, y_train)\n",
    "\n",
    "    y_pred = clf_GS.best_estimator_.predict(X_test)\n",
    "    y_pred_proba = clf_GS.best_estimator_.predict_proba(X_test)\n",
    "\n",
    "    fp_rates, tp_rates, _ = roc_curve(y_test, y_pred_proba[:, 1])\n",
    "    ax.plot(fp_rates, tp_rates, label = str(fold))\n",
    "    roc_auc = auc(fp_rates, tp_rates)\n",
    "\n",
    "    accuracy  = accuracy_score(y_test, y_pred)\n",
    "    precision = precision_score(y_test, y_pred)\n",
    "    recall    = recall_score(y_test, y_pred)\n",
    "    f1        = f1_score(y_test, y_pred)\n",
    "    roc_auc   = auc(fp_rates, tp_rates)\n",
    "\n",
    "    # Store the metrics\n",
    "    metrics['accuracy'].append(accuracy)\n",
    "    metrics['precision'].append(precision)\n",
    "    metrics['recall'].append(recall)\n",
    "    metrics['f1'].append(f1)\n",
    "    metrics['ROC AUC'].append(roc_auc)\n",
    "\n",
    "    metrics['C'].append(clf_GS.best_params_)\n",
    "\n",
    "    fold += 1\n",
    "\n"
   ]
  },
  {
   "cell_type": "raw",
   "metadata": {
    "vscode": {
     "languageId": "raw"
    }
   },
   "source": [
    "performance_10fold = pd.DataFrame(data=metrics, index=range(1, 11))\n",
    "performance_10fold"
   ]
  },
  {
   "cell_type": "raw",
   "metadata": {
    "vscode": {
     "languageId": "raw"
    }
   },
   "source": [
    "print(f\"Performance averaged over 10 folds:\")\n",
    "for column in ['accuracy', 'precision', 'recall', 'f1', 'ROC AUC']:\n",
    "    print(f\"{column} = {performance_10fold[column].mean():.4f} ± {performance_10fold[column].std():.4f}\")"
   ]
  },
  {
   "cell_type": "markdown",
   "metadata": {
    "jp-MarkdownHeadingCollapsed": true,
    "tags": []
   },
   "source": [
    "### LR, PCA + lineage, 5-fold CV"
   ]
  },
  {
   "cell_type": "raw",
   "metadata": {
    "vscode": {
     "languageId": "raw"
    }
   },
   "source": [
    "cv = KFold(n_splits = 5, shuffle = True, random_state=2024)\n",
    "fold = 1\n",
    "\n",
    "metrics = {'accuracy': [], 'precision': [], 'recall': [], 'f1': [], 'ROC AUC': [], 'C': []}\n",
    "fig, ax = plt.subplots(1,1, figsize=(6, 6))\n",
    "ax.set(title= 'ROC AUC',\n",
    "       xlabel = 'FPR',\n",
    "       ylabel ='TPR')\n",
    "add_identity(ax, color=\"r\", ls=\"--\",label = 'random\\nclassifier')\n",
    "ax.legend(frameon=False, loc='lower right', title='Fold:')\n",
    "\n",
    "for train_index, test_index in cv.split(X, y):\n",
    "    print(f\"Working on fold {fold}\")\n",
    "    X_train, X_test = X.iloc[train_index], X.iloc[test_index]\n",
    "    y_train, y_test = y.iloc[train_index], y.iloc[test_index]\n",
    "\n",
    "    # perform PCA\n",
    "    X_train, X_test = X_train.drop(columns=['lineage']), X_test.drop(columns=['lineage'])\n",
    "    lineage_train, lineage_test = lineage.iloc[train_index], lineage.iloc[test_index]\n",
    "\n",
    "    pca = PCA(random_state=0)\n",
    "    X_train = pd.DataFrame(pca.fit_transform(X_train), \n",
    "                           columns=['PCA%i' % i + '1' for i in range(pca.n_components_)], index=X_train.index)\n",
    "    X_test = pd.DataFrame(pca.transform(X_test), \n",
    "                          columns=['PCA%i' % i + '1' for i in range(pca.n_components_)], index=X_test.index)\n",
    "    \n",
    "    X_train, X_test = pd.concat([X_train, lineage_train], axis=1), pd.concat([X_test, lineage_test], axis=1)\n",
    "\n",
    "    params = {'C': 10**np.linspace(0, -8, 100) / y_train.std()}\n",
    "    #print(params)\n",
    "    #print(y_train.std())\n",
    "\n",
    "    clf = LogisticRegression(penalty='l2', random_state=0, solver='liblinear')\n",
    "    clf_GS = GridSearchCV(clf, params, cv=cv)\n",
    "    clf_GS.fit(X_train, y_train)\n",
    "\n",
    "    y_pred = clf_GS.best_estimator_.predict(X_test)\n",
    "    y_pred_proba = clf_GS.best_estimator_.predict_proba(X_test)\n",
    "\n",
    "    fp_rates, tp_rates, _ = roc_curve(y_test, y_pred_proba[:, 1])\n",
    "    ax.plot(fp_rates, tp_rates, label = str(fold))\n",
    "    roc_auc = auc(fp_rates, tp_rates)\n",
    "\n",
    "    accuracy  = accuracy_score(y_test, y_pred)\n",
    "    precision = precision_score(y_test, y_pred)\n",
    "    recall    = recall_score(y_test, y_pred)\n",
    "    f1        = f1_score(y_test, y_pred)\n",
    "    roc_auc   = auc(fp_rates, tp_rates)\n",
    "\n",
    "    # Store the metrics\n",
    "    metrics['accuracy'].append(accuracy)\n",
    "    metrics['precision'].append(precision)\n",
    "    metrics['recall'].append(recall)\n",
    "    metrics['f1'].append(f1)\n",
    "    metrics['ROC AUC'].append(roc_auc)\n",
    "\n",
    "    metrics['C'].append(clf_GS.best_params_)\n",
    "\n",
    "    fold += 1"
   ]
  },
  {
   "cell_type": "raw",
   "metadata": {
    "vscode": {
     "languageId": "raw"
    }
   },
   "source": [
    "performance_5fold = pd.DataFrame(data=metrics, index=range(1, 6))\n",
    "performance_5fold"
   ]
  },
  {
   "cell_type": "raw",
   "metadata": {
    "vscode": {
     "languageId": "raw"
    }
   },
   "source": [
    "print(f\"Performance averaged over 5 folds:\")\n",
    "for column in ['accuracy', 'precision', 'recall', 'f1', 'ROC AUC']:\n",
    "    print(f\"{column} = {performance_5fold[column].mean():.4f} ± {performance_5fold[column].std():.4f}\")"
   ]
  },
  {
   "cell_type": "markdown",
   "metadata": {},
   "source": [
    "### LR, PCA, 5-fold CV"
   ]
  },
  {
   "cell_type": "code",
   "execution_count": 9,
   "metadata": {},
   "outputs": [],
   "source": [
    "X.drop(columns=['lineage'], inplace=True)"
   ]
  },
  {
   "cell_type": "code",
   "execution_count": 10,
   "metadata": {},
   "outputs": [
    {
     "name": "stdout",
     "output_type": "stream",
     "text": [
      "Working on fold 1\n",
      "Train: \n",
      "[[60 20]\n",
      " [21 50]]\n",
      "Test: \n",
      "[[16  4]\n",
      " [ 6 12]]\n",
      "Working on fold 2\n"
     ]
    },
    {
     "name": "stderr",
     "output_type": "stream",
     "text": [
      "/cluster/software/stacks/2024-05/python-cuda/3.11.6/lib/python3.11/site-packages/sklearn/svm/_base.py:1235: ConvergenceWarning: Liblinear failed to converge, increase the number of iterations.\n",
      "  warnings.warn(\n",
      "/cluster/software/stacks/2024-05/python-cuda/3.11.6/lib/python3.11/site-packages/sklearn/svm/_base.py:1235: ConvergenceWarning: Liblinear failed to converge, increase the number of iterations.\n",
      "  warnings.warn(\n"
     ]
    },
    {
     "name": "stdout",
     "output_type": "stream",
     "text": [
      "Train: \n",
      "[[63 17]\n",
      " [23 48]]\n",
      "Test: \n",
      "[[13  7]\n",
      " [ 7 11]]\n",
      "Working on fold 3\n",
      "Train: \n",
      "[[63 17]\n",
      " [21 50]]\n",
      "Test: \n",
      "[[12  8]\n",
      " [ 5 13]]\n",
      "Working on fold 4\n",
      "Train: \n",
      "[[70 10]\n",
      " [14 57]]\n",
      "Test: \n",
      "[[14  6]\n",
      " [ 9  9]]\n",
      "Working on fold 5\n",
      "Train: \n",
      "[[65 15]\n",
      " [27 45]]\n",
      "Test: \n",
      "[[14  6]\n",
      " [ 3 14]]\n"
     ]
    },
    {
     "data": {
      "image/png": "[encoded data removed]",
      "text/plain": [
       "<Figure size 1200x600 with 2 Axes>"
      ]
     },
     "metadata": {},
     "output_type": "display_data"
    }
   ],
   "source": [
    "cv = StratifiedKFold(n_splits = 5, shuffle = True, random_state=0)\n",
    "fold = 1\n",
    "\n",
    "train_metrics = {'accuracy': [], 'precision': [], 'recall': [], 'f1': [], 'ROC AUC': []}\n",
    "test_metrics = {'accuracy': [], 'precision': [], 'recall': [], 'f1': [], 'ROC AUC': []}\n",
    "best_params = {'pca__n_components': [],\n",
    "               'logistic__C': []}\n",
    "\n",
    "fig, (ax0, ax1) = plt.subplots(1,2, figsize=(12,6))\n",
    "\n",
    "param_grid = {'pca__n_components': np.linspace(5, 40, 10, dtype=int),\n",
    "              'logistic__C': 10**np.linspace(2, -4, 10)}\n",
    "\n",
    "for train_index, test_index in cv.split(X, y):\n",
    "       print(f\"Working on fold {fold}\")\n",
    "       \n",
    "       X_train, X_test = X.iloc[train_index], X.iloc[test_index]\n",
    "       y_train, y_test = y.iloc[train_index], y.iloc[test_index]\n",
    "\n",
    "       pipe = Pipeline([('scaler', StandardScaler()),\n",
    "                        ('pca', PCA(random_state=0)),\n",
    "                        ('logistic', LogisticRegression(penalty='l1', random_state=0, solver='liblinear', max_iter=5000))])\n",
    "       search = GridSearchCV(pipe, \n",
    "                             param_grid, \n",
    "                             n_jobs=-1\n",
    "                             #, error_score='raise'\n",
    "                             )\n",
    "       clf = search.fit(X_train, y_train)\n",
    "\n",
    "       for param in search.best_params_.keys():\n",
    "              best_params[param].append(search.best_params_[param])\n",
    "\n",
    "       train_eval = evaluation(clf, X_train, y_train)\n",
    "       train_metrics['accuracy'].append(train_eval[0])\n",
    "       train_metrics['precision'].append(train_eval[1])\n",
    "       train_metrics['recall'].append(train_eval[2])\n",
    "       train_metrics['f1'].append(train_eval[3])\n",
    "       train_metrics['ROC AUC'].append(train_eval[4])\n",
    "       \n",
    "       ax0.plot(train_eval[5], train_eval[6], label = str(fold))\n",
    "\n",
    "       test_eval = evaluation(clf, X_test, y_test)\n",
    "       test_metrics['accuracy'].append(test_eval[0])\n",
    "       test_metrics['precision'].append(test_eval[1])\n",
    "       test_metrics['recall'].append(test_eval[2])\n",
    "       test_metrics['f1'].append(test_eval[3])\n",
    "       test_metrics['ROC AUC'].append(test_eval[4])\n",
    "       \n",
    "       ax1.plot(test_eval[5], test_eval[6], label = str(fold))\n",
    "\n",
    "       print(f\"Train: \\n{train_eval[7]}\")\n",
    "       print(f\"Test: \\n{test_eval[7]}\")\n",
    "\n",
    "       fold += 1\n",
    "\n",
    "ax0.set(title= 'TRAIN - ROC AUC',\n",
    "       xlabel = 'FPR',\n",
    "       ylabel ='TPR')\n",
    "ax1.set(title= 'TEST - ROC AUC',\n",
    "       xlabel = 'FPR',\n",
    "       ylabel ='TPR')\n",
    "add_identity(ax0, color=\"r\", ls=\"--\",label = 'no skill')\n",
    "add_identity(ax1, color=\"r\", ls=\"--\",label = 'no skill')\n",
    "ax0.legend(frameon=False, loc='lower right', title='Fold:')\n",
    "ax1.legend(frameon=False, loc='lower right', title='Fold:')\n",
    "plt.tight_layout()\n",
    "plt.savefig(\"../output/LR_ROC.pdf\")"
   ]
  },
  {
   "cell_type": "code",
   "execution_count": 11,
   "metadata": {},
   "outputs": [
    {
     "data": {
      "text/html": [
       "<div>\n",
       "<style scoped>\n",
       "    .dataframe tbody tr th:only-of-type {\n",
       "        vertical-align: middle;\n",
       "    }\n",
       "\n",
       "    .dataframe tbody tr th {\n",
       "        vertical-align: top;\n",
       "    }\n",
       "\n",
       "    .dataframe thead th {\n",
       "        text-align: right;\n",
       "    }\n",
       "</style>\n",
       "<table border=\"1\" class=\"dataframe\">\n",
       "  <thead>\n",
       "    <tr style=\"text-align: right;\">\n",
       "      <th></th>\n",
       "      <th>accuracy</th>\n",
       "      <th>precision</th>\n",
       "      <th>recall</th>\n",
       "      <th>f1</th>\n",
       "      <th>ROC AUC</th>\n",
       "    </tr>\n",
       "  </thead>\n",
       "  <tbody>\n",
       "    <tr>\n",
       "      <th>1</th>\n",
       "      <td>0.728477</td>\n",
       "      <td>0.714286</td>\n",
       "      <td>0.704225</td>\n",
       "      <td>0.709220</td>\n",
       "      <td>0.792077</td>\n",
       "    </tr>\n",
       "    <tr>\n",
       "      <th>2</th>\n",
       "      <td>0.735099</td>\n",
       "      <td>0.738462</td>\n",
       "      <td>0.676056</td>\n",
       "      <td>0.705882</td>\n",
       "      <td>0.784155</td>\n",
       "    </tr>\n",
       "    <tr>\n",
       "      <th>3</th>\n",
       "      <td>0.748344</td>\n",
       "      <td>0.746269</td>\n",
       "      <td>0.704225</td>\n",
       "      <td>0.724638</td>\n",
       "      <td>0.827817</td>\n",
       "    </tr>\n",
       "    <tr>\n",
       "      <th>4</th>\n",
       "      <td>0.841060</td>\n",
       "      <td>0.850746</td>\n",
       "      <td>0.802817</td>\n",
       "      <td>0.826087</td>\n",
       "      <td>0.908979</td>\n",
       "    </tr>\n",
       "    <tr>\n",
       "      <th>5</th>\n",
       "      <td>0.723684</td>\n",
       "      <td>0.750000</td>\n",
       "      <td>0.625000</td>\n",
       "      <td>0.681818</td>\n",
       "      <td>0.797917</td>\n",
       "    </tr>\n",
       "  </tbody>\n",
       "</table>\n",
       "</div>"
      ],
      "text/plain": [
       "   accuracy  precision    recall        f1   ROC AUC\n",
       "1  0.728477   0.714286  0.704225  0.709220  0.792077\n",
       "2  0.735099   0.738462  0.676056  0.705882  0.784155\n",
       "3  0.748344   0.746269  0.704225  0.724638  0.827817\n",
       "4  0.841060   0.850746  0.802817  0.826087  0.908979\n",
       "5  0.723684   0.750000  0.625000  0.681818  0.797917"
      ]
     },
     "execution_count": 11,
     "metadata": {},
     "output_type": "execute_result"
    }
   ],
   "source": [
    "performance_train = pd.DataFrame(data=train_metrics, index=range(1, 6))\n",
    "performance_train"
   ]
  },
  {
   "cell_type": "code",
   "execution_count": 12,
   "metadata": {},
   "outputs": [
    {
     "name": "stdout",
     "output_type": "stream",
     "text": [
      "Performance averaged over 5 folds:\n",
      "accuracy = 0.7553 ± 0.0488\n",
      "precision = 0.7600 ± 0.0526\n",
      "recall = 0.7025 ± 0.0648\n",
      "f1 = 0.7295 ± 0.0561\n",
      "ROC AUC = 0.8222 ± 0.0513\n"
     ]
    }
   ],
   "source": [
    "print(f\"Performance averaged over 5 folds:\")\n",
    "for column in ['accuracy', 'precision', 'recall', 'f1', 'ROC AUC']:\n",
    "    print(f\"{column} = {performance_train[column].mean():.4f} ± {performance_train[column].std():.4f}\")"
   ]
  },
  {
   "cell_type": "code",
   "execution_count": 13,
   "metadata": {},
   "outputs": [
    {
     "data": {
      "text/html": [
       "<div>\n",
       "<style scoped>\n",
       "    .dataframe tbody tr th:only-of-type {\n",
       "        vertical-align: middle;\n",
       "    }\n",
       "\n",
       "    .dataframe tbody tr th {\n",
       "        vertical-align: top;\n",
       "    }\n",
       "\n",
       "    .dataframe thead th {\n",
       "        text-align: right;\n",
       "    }\n",
       "</style>\n",
       "<table border=\"1\" class=\"dataframe\">\n",
       "  <thead>\n",
       "    <tr style=\"text-align: right;\">\n",
       "      <th></th>\n",
       "      <th>pca__n_components</th>\n",
       "      <th>logistic__C</th>\n",
       "    </tr>\n",
       "  </thead>\n",
       "  <tbody>\n",
       "    <tr>\n",
       "      <th>1</th>\n",
       "      <td>16</td>\n",
       "      <td>0.046416</td>\n",
       "    </tr>\n",
       "    <tr>\n",
       "      <th>2</th>\n",
       "      <td>8</td>\n",
       "      <td>100.000000</td>\n",
       "    </tr>\n",
       "    <tr>\n",
       "      <th>3</th>\n",
       "      <td>20</td>\n",
       "      <td>0.046416</td>\n",
       "    </tr>\n",
       "    <tr>\n",
       "      <th>4</th>\n",
       "      <td>32</td>\n",
       "      <td>21.544347</td>\n",
       "    </tr>\n",
       "    <tr>\n",
       "      <th>5</th>\n",
       "      <td>16</td>\n",
       "      <td>100.000000</td>\n",
       "    </tr>\n",
       "  </tbody>\n",
       "</table>\n",
       "</div>"
      ],
      "text/plain": [
       "   pca__n_components  logistic__C\n",
       "1                 16     0.046416\n",
       "2                  8   100.000000\n",
       "3                 20     0.046416\n",
       "4                 32    21.544347\n",
       "5                 16   100.000000"
      ]
     },
     "execution_count": 13,
     "metadata": {},
     "output_type": "execute_result"
    }
   ],
   "source": [
    "best_params = pd.DataFrame(data=best_params, index=range(1,6))\n",
    "best_params"
   ]
  },
  {
   "cell_type": "code",
   "execution_count": 14,
   "metadata": {},
   "outputs": [
    {
     "data": {
      "text/html": [
       "<div>\n",
       "<style scoped>\n",
       "    .dataframe tbody tr th:only-of-type {\n",
       "        vertical-align: middle;\n",
       "    }\n",
       "\n",
       "    .dataframe tbody tr th {\n",
       "        vertical-align: top;\n",
       "    }\n",
       "\n",
       "    .dataframe thead th {\n",
       "        text-align: right;\n",
       "    }\n",
       "</style>\n",
       "<table border=\"1\" class=\"dataframe\">\n",
       "  <thead>\n",
       "    <tr style=\"text-align: right;\">\n",
       "      <th></th>\n",
       "      <th>accuracy</th>\n",
       "      <th>precision</th>\n",
       "      <th>recall</th>\n",
       "      <th>f1</th>\n",
       "      <th>ROC AUC</th>\n",
       "    </tr>\n",
       "  </thead>\n",
       "  <tbody>\n",
       "    <tr>\n",
       "      <th>1</th>\n",
       "      <td>0.736842</td>\n",
       "      <td>0.750000</td>\n",
       "      <td>0.666667</td>\n",
       "      <td>0.705882</td>\n",
       "      <td>0.794444</td>\n",
       "    </tr>\n",
       "    <tr>\n",
       "      <th>2</th>\n",
       "      <td>0.631579</td>\n",
       "      <td>0.611111</td>\n",
       "      <td>0.611111</td>\n",
       "      <td>0.611111</td>\n",
       "      <td>0.697222</td>\n",
       "    </tr>\n",
       "    <tr>\n",
       "      <th>3</th>\n",
       "      <td>0.657895</td>\n",
       "      <td>0.619048</td>\n",
       "      <td>0.722222</td>\n",
       "      <td>0.666667</td>\n",
       "      <td>0.708333</td>\n",
       "    </tr>\n",
       "    <tr>\n",
       "      <th>4</th>\n",
       "      <td>0.605263</td>\n",
       "      <td>0.600000</td>\n",
       "      <td>0.500000</td>\n",
       "      <td>0.545455</td>\n",
       "      <td>0.647222</td>\n",
       "    </tr>\n",
       "    <tr>\n",
       "      <th>5</th>\n",
       "      <td>0.756757</td>\n",
       "      <td>0.700000</td>\n",
       "      <td>0.823529</td>\n",
       "      <td>0.756757</td>\n",
       "      <td>0.800000</td>\n",
       "    </tr>\n",
       "  </tbody>\n",
       "</table>\n",
       "</div>"
      ],
      "text/plain": [
       "   accuracy  precision    recall        f1   ROC AUC\n",
       "1  0.736842   0.750000  0.666667  0.705882  0.794444\n",
       "2  0.631579   0.611111  0.611111  0.611111  0.697222\n",
       "3  0.657895   0.619048  0.722222  0.666667  0.708333\n",
       "4  0.605263   0.600000  0.500000  0.545455  0.647222\n",
       "5  0.756757   0.700000  0.823529  0.756757  0.800000"
      ]
     },
     "execution_count": 14,
     "metadata": {},
     "output_type": "execute_result"
    }
   ],
   "source": [
    "performance_test = pd.DataFrame(data=test_metrics, index=range(1, 6))\n",
    "performance_test"
   ]
  },
  {
   "cell_type": "code",
   "execution_count": 15,
   "metadata": {},
   "outputs": [
    {
     "name": "stdout",
     "output_type": "stream",
     "text": [
      "Performance averaged over 5 folds:\n",
      "accuracy = 0.6777 ± 0.0662\n",
      "precision = 0.6560 ± 0.0657\n",
      "recall = 0.6647 ± 0.1210\n",
      "f1 = 0.6572 ± 0.0821\n",
      "ROC AUC = 0.7294 ± 0.0660\n"
     ]
    }
   ],
   "source": [
    "print(f\"Performance averaged over 5 folds:\")\n",
    "for column in ['accuracy', 'precision', 'recall', 'f1', 'ROC AUC']:\n",
    "    print(f\"{column} = {performance_test[column].mean():.4f} ± {performance_test[column].std():.4f}\")"
   ]
  },
  {
   "cell_type": "markdown",
   "metadata": {},
   "source": [
    "### LR, PCA, Wrapper\n",
    "Sadly the solver does not converge with reasonable resources..."
   ]
  },
  {
   "cell_type": "raw",
   "metadata": {},
   "source": [
    "from sklearn.feature_selection import SequentialFeatureSelector\n",
    "\n",
    "cv = StratifiedKFold(n_splits = 5, shuffle = True, random_state=0)\n",
    "fold = 1\n",
    "\n",
    "train_metrics = {'accuracy': [], 'precision': [], 'recall': [], 'f1': [], 'ROC AUC': []}\n",
    "test_metrics = {'accuracy': [], 'precision': [], 'recall': [], 'f1': [], 'ROC AUC': []}\n",
    "\n",
    "param_grid = {'FFS__n_features_to_select': np.linspace(1, 100, 20)}\n",
    "best_params = {}\n",
    "\n",
    "fig, (ax0, ax1) = plt.subplots(1,2, figsize=(12,6))\n",
    "\n",
    "for train_index, test_index in cv.split(X, y):\n",
    "       print(f\"Working on fold {fold}\")\n",
    "       \n",
    "       X_train, X_test = X.iloc[train_index], X.iloc[test_index]\n",
    "       y_train, y_test = y.iloc[train_index], y.iloc[test_index]\n",
    "\n",
    "       pipe = Pipeline([('scaler', StandardScaler()),\n",
    "                        ('pca', PCA(random_state=0)),\n",
    "                        ('FFS', SequentialFeatureSelector(estimator=LogisticRegression(penalty='none', random_state=0, solver='saga', max_iter=1000), direction='forward')),\n",
    "                        ('logistic', LogisticRegression(penalty='none', random_state=0, solver='saga', max_iter=1000))])\n",
    "       search = GridSearchCV(pipe, \n",
    "                             param_grid, \n",
    "                             n_jobs=-1\n",
    "                             #, error_score='raise'\n",
    "                             )\n",
    "       clf = search.fit(X_train, y_train)\n",
    "\n",
    "       for param in search.best_params_.keys():\n",
    "              best_params[param].append(search.best_params_[param])\n",
    "\n",
    "       train_eval = evaluation(clf, X_train, y_train)\n",
    "       train_metrics['accuracy'].append(train_eval[0])\n",
    "       train_metrics['precision'].append(train_eval[1])\n",
    "       train_metrics['recall'].append(train_eval[2])\n",
    "       train_metrics['f1'].append(train_eval[3])\n",
    "       train_metrics['ROC AUC'].append(train_eval[4])\n",
    "       \n",
    "       ax0.plot(train_eval[5], train_eval[6], label = str(fold))\n",
    "\n",
    "       test_eval = evaluation(clf, X_test, y_test)\n",
    "       test_metrics['accuracy'].append(test_eval[0])\n",
    "       test_metrics['precision'].append(test_eval[1])\n",
    "       test_metrics['recall'].append(test_eval[2])\n",
    "       test_metrics['f1'].append(test_eval[3])\n",
    "       test_metrics['ROC AUC'].append(test_eval[4])\n",
    "       \n",
    "       ax1.plot(test_eval[5], test_eval[6], label = str(fold))\n",
    "\n",
    "       print(f\"Train: \\n{train_eval[7]}\")\n",
    "       print(f\"Test: \\n{test_eval[7]}\")\n",
    "\n",
    "       fold += 1\n",
    "\n",
    "ax0.set(title= 'TRAIN - ROC AUC',\n",
    "       xlabel = 'FPR',\n",
    "       ylabel ='TPR')\n",
    "ax1.set(title= 'TEST - ROC AUC',\n",
    "       xlabel = 'FPR',\n",
    "       ylabel ='TPR')\n",
    "add_identity(ax0, color=\"r\", ls=\"--\",label = 'no skill')\n",
    "add_identity(ax1, color=\"r\", ls=\"--\",label = 'no skill')\n",
    "ax0.legend(frameon=False, loc='lower right', title='Fold:')\n",
    "ax1.legend(frameon=False, loc='lower right', title='Fold:')"
   ]
  },
  {
   "cell_type": "raw",
   "metadata": {},
   "source": [
    "performance_train = pd.DataFrame(data=train_metrics, index=range(1, 6))\n",
    "performance_train"
   ]
  },
  {
   "cell_type": "raw",
   "metadata": {},
   "source": [
    "print(f\"Performance averaged over 5 folds:\")\n",
    "for column in ['accuracy', 'precision', 'recall', 'f1', 'ROC AUC']:\n",
    "    print(f\"{column} = {performance_train[column].mean():.4f} ± {performance_train[column].std():.4f}\")"
   ]
  },
  {
   "cell_type": "raw",
   "metadata": {},
   "source": [
    "best_params = pd.DataFrame(data=best_params, index=range(1,6))\n",
    "best_params"
   ]
  },
  {
   "cell_type": "raw",
   "metadata": {},
   "source": [
    "performance_test = pd.DataFrame(data=test_metrics, index=range(1, 6))\n",
    "performance_test"
   ]
  },
  {
   "cell_type": "raw",
   "metadata": {},
   "source": [
    "print(f\"Performance averaged over 5 folds:\")\n",
    "for column in ['accuracy', 'precision', 'recall', 'f1', 'ROC AUC']:\n",
    "    print(f\"{column} = {performance_test[column].mean():.4f} ± {performance_test[column].std():.4f}\")"
   ]
  },
  {
   "cell_type": "markdown",
   "metadata": {},
   "source": [
    "### LR, Filter + Embedded Regularization"
   ]
  },
  {
   "cell_type": "code",
   "execution_count": 16,
   "metadata": {},
   "outputs": [
    {
     "name": "stdout",
     "output_type": "stream",
     "text": [
      "Working on fold 1\n",
      "Train: \n",
      "[[80  0]\n",
      " [ 0 71]]\n",
      "Test: \n",
      "[[15  5]\n",
      " [ 6 12]]\n",
      "Working on fold 2\n",
      "Train: \n",
      "[[80  0]\n",
      " [ 0 71]]\n",
      "Test: \n",
      "[[12  8]\n",
      " [ 8 10]]\n",
      "Working on fold 3\n",
      "Train: \n",
      "[[80  0]\n",
      " [ 0 71]]\n",
      "Test: \n",
      "[[11  9]\n",
      " [ 5 13]]\n",
      "Working on fold 4\n",
      "Train: \n",
      "[[80  0]\n",
      " [ 0 71]]\n",
      "Test: \n",
      "[[14  6]\n",
      " [ 8 10]]\n",
      "Working on fold 5\n",
      "Train: \n",
      "[[80  0]\n",
      " [ 0 72]]\n",
      "Test: \n",
      "[[13  7]\n",
      " [ 5 12]]\n"
     ]
    },
    {
     "data": {
      "text/plain": [
       "<matplotlib.legend.Legend at 0x2b1a25c93250>"
      ]
     },
     "execution_count": 16,
     "metadata": {},
     "output_type": "execute_result"
    },
    {
     "data": {
      "image/png": "[encoded data removed]",
      "text/plain": [
       "<Figure size 864x432 with 2 Axes>"
      ]
     },
     "metadata": {
      "needs_background": "light"
     },
     "output_type": "display_data"
    }
   ],
   "source": [
    "cv = StratifiedKFold(n_splits = 5, shuffle = True, random_state=0)\n",
    "fold = 1\n",
    "\n",
    "train_metrics = {'accuracy': [], 'precision': [], 'recall': [], 'f1': [], 'ROC AUC': []}\n",
    "test_metrics = {'accuracy': [], 'precision': [], 'recall': [], 'f1': [], 'ROC AUC': []}\n",
    "\n",
    "param_grid = {'filter__k': np.linspace(10, 1000, 20, dtype=int),\n",
    "              'logistic__C': 10**np.linspace(2, -3, 20)}\n",
    "best_params = {'filter__k': [],\n",
    "               'logistic__C': []}\n",
    "\n",
    "fig, (ax0, ax1) = plt.subplots(1,2, figsize=(12,6))\n",
    "\n",
    "for train_index, test_index in cv.split(X, y):\n",
    "       print(f\"Working on fold {fold}\")\n",
    "       \n",
    "       X_train, X_test = X.iloc[train_index], X.iloc[test_index]\n",
    "       y_train, y_test = y.iloc[train_index], y.iloc[test_index]\n",
    "\n",
    "       pipe = Pipeline([('scaler', StandardScaler()),\n",
    "                        ('remove_constant', VarianceThreshold(threshold=0)),\n",
    "                        ('filter', SelectKBest(f_classif)),\n",
    "                        ('logistic', LogisticRegression(penalty='l1', random_state=0, solver='liblinear', max_iter=5000))])\n",
    "       search = GridSearchCV(pipe, \n",
    "                             param_grid, \n",
    "                             n_jobs=4\n",
    "                             #, error_score='raise'\n",
    "                             )\n",
    "       clf = search.fit(X_train, y_train)\n",
    "\n",
    "       for param in search.best_params_.keys():\n",
    "              best_params[param].append(search.best_params_[param])\n",
    "\n",
    "       train_eval = evaluation(clf, X_train, y_train)\n",
    "       train_metrics['accuracy'].append(train_eval[0])\n",
    "       train_metrics['precision'].append(train_eval[1])\n",
    "       train_metrics['recall'].append(train_eval[2])\n",
    "       train_metrics['f1'].append(train_eval[3])\n",
    "       train_metrics['ROC AUC'].append(train_eval[4])\n",
    "       \n",
    "       ax0.plot(train_eval[5], train_eval[6], label = str(fold))\n",
    "\n",
    "       test_eval = evaluation(clf, X_test, y_test)\n",
    "       test_metrics['accuracy'].append(test_eval[0])\n",
    "       test_metrics['precision'].append(test_eval[1])\n",
    "       test_metrics['recall'].append(test_eval[2])\n",
    "       test_metrics['f1'].append(test_eval[3])\n",
    "       test_metrics['ROC AUC'].append(test_eval[4])\n",
    "       \n",
    "       ax1.plot(test_eval[5], test_eval[6], label = str(fold))\n",
    "\n",
    "       print(f\"Train: \\n{train_eval[7]}\")\n",
    "       print(f\"Test: \\n{test_eval[7]}\")\n",
    "\n",
    "       fold += 1\n",
    "\n",
    "ax0.set(title= 'TRAIN - ROC AUC',\n",
    "       xlabel = 'FPR',\n",
    "       ylabel ='TPR')\n",
    "ax1.set(title= 'TEST - ROC AUC',\n",
    "       xlabel = 'FPR',\n",
    "       ylabel ='TPR')\n",
    "add_identity(ax0, color=\"r\", ls=\"--\",label = 'no skill')\n",
    "add_identity(ax1, color=\"r\", ls=\"--\",label = 'no skill')\n",
    "ax0.legend(frameon=False, loc='lower right', title='Fold:')\n",
    "ax1.legend(frameon=False, loc='lower right', title='Fold:')"
   ]
  },
  {
   "cell_type": "code",
   "execution_count": 17,
   "metadata": {},
   "outputs": [
    {
     "data": {
      "text/html": [
       "<div>\n",
       "<style scoped>\n",
       "    .dataframe tbody tr th:only-of-type {\n",
       "        vertical-align: middle;\n",
       "    }\n",
       "\n",
       "    .dataframe tbody tr th {\n",
       "        vertical-align: top;\n",
       "    }\n",
       "\n",
       "    .dataframe thead th {\n",
       "        text-align: right;\n",
       "    }\n",
       "</style>\n",
       "<table border=\"1\" class=\"dataframe\">\n",
       "  <thead>\n",
       "    <tr style=\"text-align: right;\">\n",
       "      <th></th>\n",
       "      <th>accuracy</th>\n",
       "      <th>precision</th>\n",
       "      <th>recall</th>\n",
       "      <th>f1</th>\n",
       "      <th>ROC AUC</th>\n",
       "    </tr>\n",
       "  </thead>\n",
       "  <tbody>\n",
       "    <tr>\n",
       "      <th>1</th>\n",
       "      <td>1.0</td>\n",
       "      <td>1.0</td>\n",
       "      <td>1.0</td>\n",
       "      <td>1.0</td>\n",
       "      <td>1.0</td>\n",
       "    </tr>\n",
       "    <tr>\n",
       "      <th>2</th>\n",
       "      <td>1.0</td>\n",
       "      <td>1.0</td>\n",
       "      <td>1.0</td>\n",
       "      <td>1.0</td>\n",
       "      <td>1.0</td>\n",
       "    </tr>\n",
       "    <tr>\n",
       "      <th>3</th>\n",
       "      <td>1.0</td>\n",
       "      <td>1.0</td>\n",
       "      <td>1.0</td>\n",
       "      <td>1.0</td>\n",
       "      <td>1.0</td>\n",
       "    </tr>\n",
       "    <tr>\n",
       "      <th>4</th>\n",
       "      <td>1.0</td>\n",
       "      <td>1.0</td>\n",
       "      <td>1.0</td>\n",
       "      <td>1.0</td>\n",
       "      <td>1.0</td>\n",
       "    </tr>\n",
       "    <tr>\n",
       "      <th>5</th>\n",
       "      <td>1.0</td>\n",
       "      <td>1.0</td>\n",
       "      <td>1.0</td>\n",
       "      <td>1.0</td>\n",
       "      <td>1.0</td>\n",
       "    </tr>\n",
       "  </tbody>\n",
       "</table>\n",
       "</div>"
      ],
      "text/plain": [
       "   accuracy  precision  recall   f1  ROC AUC\n",
       "1       1.0        1.0     1.0  1.0      1.0\n",
       "2       1.0        1.0     1.0  1.0      1.0\n",
       "3       1.0        1.0     1.0  1.0      1.0\n",
       "4       1.0        1.0     1.0  1.0      1.0\n",
       "5       1.0        1.0     1.0  1.0      1.0"
      ]
     },
     "execution_count": 17,
     "metadata": {},
     "output_type": "execute_result"
    }
   ],
   "source": [
    "performance_train = pd.DataFrame(data=train_metrics, index=range(1, 6))\n",
    "performance_train"
   ]
  },
  {
   "cell_type": "code",
   "execution_count": 18,
   "metadata": {},
   "outputs": [
    {
     "name": "stdout",
     "output_type": "stream",
     "text": [
      "Performance averaged over 5 folds:\n",
      "accuracy = 1.0000 ± 0.0000\n",
      "precision = 1.0000 ± 0.0000\n",
      "recall = 1.0000 ± 0.0000\n",
      "f1 = 1.0000 ± 0.0000\n",
      "ROC AUC = 1.0000 ± 0.0000\n"
     ]
    }
   ],
   "source": [
    "print(f\"Performance averaged over 5 folds:\")\n",
    "for column in ['accuracy', 'precision', 'recall', 'f1', 'ROC AUC']:\n",
    "    print(f\"{column} = {performance_train[column].mean():.4f} ± {performance_train[column].std():.4f}\")"
   ]
  },
  {
   "cell_type": "code",
   "execution_count": 19,
   "metadata": {},
   "outputs": [
    {
     "data": {
      "text/html": [
       "<div>\n",
       "<style scoped>\n",
       "    .dataframe tbody tr th:only-of-type {\n",
       "        vertical-align: middle;\n",
       "    }\n",
       "\n",
       "    .dataframe tbody tr th {\n",
       "        vertical-align: top;\n",
       "    }\n",
       "\n",
       "    .dataframe thead th {\n",
       "        text-align: right;\n",
       "    }\n",
       "</style>\n",
       "<table border=\"1\" class=\"dataframe\">\n",
       "  <thead>\n",
       "    <tr style=\"text-align: right;\">\n",
       "      <th></th>\n",
       "      <th>filter__k</th>\n",
       "      <th>logistic__C</th>\n",
       "    </tr>\n",
       "  </thead>\n",
       "  <tbody>\n",
       "    <tr>\n",
       "      <th>1</th>\n",
       "      <td>7473</td>\n",
       "      <td>0.162378</td>\n",
       "    </tr>\n",
       "    <tr>\n",
       "      <th>2</th>\n",
       "      <td>6210</td>\n",
       "      <td>143.844989</td>\n",
       "    </tr>\n",
       "    <tr>\n",
       "      <th>3</th>\n",
       "      <td>2421</td>\n",
       "      <td>0.695193</td>\n",
       "    </tr>\n",
       "    <tr>\n",
       "      <th>4</th>\n",
       "      <td>3263</td>\n",
       "      <td>33.598183</td>\n",
       "    </tr>\n",
       "    <tr>\n",
       "      <th>5</th>\n",
       "      <td>2842</td>\n",
       "      <td>143.844989</td>\n",
       "    </tr>\n",
       "  </tbody>\n",
       "</table>\n",
       "</div>"
      ],
      "text/plain": [
       "   filter__k  logistic__C\n",
       "1       7473     0.162378\n",
       "2       6210   143.844989\n",
       "3       2421     0.695193\n",
       "4       3263    33.598183\n",
       "5       2842   143.844989"
      ]
     },
     "execution_count": 19,
     "metadata": {},
     "output_type": "execute_result"
    }
   ],
   "source": [
    "best_params = pd.DataFrame(data=best_params, index=range(1,6))\n",
    "best_params"
   ]
  },
  {
   "cell_type": "code",
   "execution_count": 20,
   "metadata": {},
   "outputs": [
    {
     "data": {
      "text/html": [
       "<div>\n",
       "<style scoped>\n",
       "    .dataframe tbody tr th:only-of-type {\n",
       "        vertical-align: middle;\n",
       "    }\n",
       "\n",
       "    .dataframe tbody tr th {\n",
       "        vertical-align: top;\n",
       "    }\n",
       "\n",
       "    .dataframe thead th {\n",
       "        text-align: right;\n",
       "    }\n",
       "</style>\n",
       "<table border=\"1\" class=\"dataframe\">\n",
       "  <thead>\n",
       "    <tr style=\"text-align: right;\">\n",
       "      <th></th>\n",
       "      <th>accuracy</th>\n",
       "      <th>precision</th>\n",
       "      <th>recall</th>\n",
       "      <th>f1</th>\n",
       "      <th>ROC AUC</th>\n",
       "    </tr>\n",
       "  </thead>\n",
       "  <tbody>\n",
       "    <tr>\n",
       "      <th>1</th>\n",
       "      <td>0.710526</td>\n",
       "      <td>0.705882</td>\n",
       "      <td>0.666667</td>\n",
       "      <td>0.685714</td>\n",
       "      <td>0.761111</td>\n",
       "    </tr>\n",
       "    <tr>\n",
       "      <th>2</th>\n",
       "      <td>0.578947</td>\n",
       "      <td>0.555556</td>\n",
       "      <td>0.555556</td>\n",
       "      <td>0.555556</td>\n",
       "      <td>0.586111</td>\n",
       "    </tr>\n",
       "    <tr>\n",
       "      <th>3</th>\n",
       "      <td>0.631579</td>\n",
       "      <td>0.590909</td>\n",
       "      <td>0.722222</td>\n",
       "      <td>0.650000</td>\n",
       "      <td>0.680556</td>\n",
       "    </tr>\n",
       "    <tr>\n",
       "      <th>4</th>\n",
       "      <td>0.631579</td>\n",
       "      <td>0.625000</td>\n",
       "      <td>0.555556</td>\n",
       "      <td>0.588235</td>\n",
       "      <td>0.655556</td>\n",
       "    </tr>\n",
       "    <tr>\n",
       "      <th>5</th>\n",
       "      <td>0.675676</td>\n",
       "      <td>0.631579</td>\n",
       "      <td>0.705882</td>\n",
       "      <td>0.666667</td>\n",
       "      <td>0.797059</td>\n",
       "    </tr>\n",
       "  </tbody>\n",
       "</table>\n",
       "</div>"
      ],
      "text/plain": [
       "   accuracy  precision    recall        f1   ROC AUC\n",
       "1  0.710526   0.705882  0.666667  0.685714  0.761111\n",
       "2  0.578947   0.555556  0.555556  0.555556  0.586111\n",
       "3  0.631579   0.590909  0.722222  0.650000  0.680556\n",
       "4  0.631579   0.625000  0.555556  0.588235  0.655556\n",
       "5  0.675676   0.631579  0.705882  0.666667  0.797059"
      ]
     },
     "execution_count": 20,
     "metadata": {},
     "output_type": "execute_result"
    }
   ],
   "source": [
    "performance_test = pd.DataFrame(data=test_metrics, index=range(1, 6))\n",
    "performance_test"
   ]
  },
  {
   "cell_type": "code",
   "execution_count": 21,
   "metadata": {},
   "outputs": [
    {
     "name": "stdout",
     "output_type": "stream",
     "text": [
      "Performance averaged over 5 folds:\n",
      "accuracy = 0.6457 ± 0.0499\n",
      "precision = 0.6218 ± 0.0559\n",
      "recall = 0.6412 ± 0.0807\n",
      "f1 = 0.6292 ± 0.0551\n",
      "ROC AUC = 0.6961 ± 0.0843\n"
     ]
    }
   ],
   "source": [
    "print(f\"Performance averaged over 5 folds:\")\n",
    "for column in ['accuracy', 'precision', 'recall', 'f1', 'ROC AUC']:\n",
    "    print(f\"{column} = {performance_test[column].mean():.4f} ± {performance_test[column].std():.4f}\")"
   ]
  },
  {
   "cell_type": "markdown",
   "metadata": {},
   "source": [
    "#### Historic performance of the model\n",
    "param_grid = {'filter__k': np.linspace(100, 10000, 20, dtype=int),\n",
    "              'logistic__C': 10**np.linspace(1, -8, 20)} \n",
    "|       | filter__k | logistic__C |\n",
    "|-------|-----------|-------------|\n",
    "| **1** | 100       | 0.379269    |\n",
    "| **2** | 4789      | 10.000000   |\n",
    "| **3** | 8957      | 3.359818    |\n",
    "| **4** | 4268      | 0.379269    |\n",
    "| **5** | 2184      | 10.000000   |\n",
    "\n",
    "| Metric     | Value               |\n",
    "|------------|---------------------|\n",
    "| Accuracy   | 0.6300 ± 0.0461     |\n",
    "| Precision  | 0.6047 ± 0.0392     |\n",
    "| Recall     | 0.6190 ± 0.1236     |\n",
    "| F1         | 0.6077 ± 0.0700     |\n",
    "| ROC AUC    | 0.6575 ± 0.0974     |\n",
    "\n",
    "param_grid = {'filter__k': np.linspace(2000, 10000, 20, dtype=int),\n",
    "              'logistic__C': 10**np.linspace(3, -1, 20)}           \n",
    "|       | filter__k | logistic__C |\n",
    "|-------|-----------|-------------|\n",
    "| **1** | 7473      | 0.162378    |\n",
    "| **2** | 6210      | 143.844989  |\n",
    "| **3** | 2421      | 0.695193    |\n",
    "| **4** | 3263      | 33.598183   |\n",
    "| **5** | 2842      | 143.844989  |\n",
    "\n",
    "| Metric     | Value               |\n",
    "|------------|---------------------|\n",
    "| Accuracy   | 0.6457 ± 0.0499     |\n",
    "| Precision  | 0.6218 ± 0.0559     |\n",
    "| Recall     | 0.6412 ± 0.0807     |\n",
    "| F1         | 0.6292 ± 0.0551     |\n",
    "| ROC AUC    | 0.6961 ± 0.0843     |\n"
   ]
  },
  {
   "cell_type": "markdown",
   "metadata": {},
   "source": [
    "### LR, Filter, RFE\n",
    "Doesn't seem to be working in a reasonable time. 90+min runtime working on fold 1..."
   ]
  },
  {
   "cell_type": "code",
   "execution_count": null,
   "metadata": {},
   "outputs": [
    {
     "name": "stdout",
     "output_type": "stream",
     "text": [
      "Working on fold 1\n",
      "Train: \n",
      "[[80  0]\n",
      " [ 0 71]]\n",
      "Test: \n",
      "[[17  3]\n",
      " [ 7 11]]\n",
      "Working on fold 2\n"
     ]
    }
   ],
   "source": [
    "from sklearn.feature_selection import RFE, mutual_info_classif\n",
    "\n",
    "cv = StratifiedKFold(n_splits = 5, shuffle = True, random_state=0)\n",
    "fold = 1\n",
    "\n",
    "train_metrics = {'accuracy': [], 'precision': [], 'recall': [], 'f1': [], 'ROC AUC': []}\n",
    "test_metrics = {'accuracy': [], 'precision': [], 'recall': [], 'f1': [], 'ROC AUC': []}\n",
    "\n",
    "param_grid = {'filter__k': np.linspace(20, 1000, 20, dtype=int),\n",
    "              'logistic__C': 10**np.linspace(2, -3, 5)}\n",
    "best_params = {'filter__k': [],\n",
    "               'logistic__C': []}\n",
    "\n",
    "\n",
    "fig, (ax0, ax1) = plt.subplots(1,2, figsize=(12,6))\n",
    "\n",
    "for train_index, test_index in cv.split(X, y):\n",
    "       print(f\"Working on fold {fold}\")\n",
    "       \n",
    "       X_train, X_test = X.iloc[train_index], X.iloc[test_index]\n",
    "       y_train, y_test = y.iloc[train_index], y.iloc[test_index]\n",
    "\n",
    "       pipe = Pipeline([('scaler', StandardScaler()),\n",
    "                        ('remove_constant', VarianceThreshold(threshold=0)),\n",
    "                        ('filter', SelectKBest(mutual_info_classif)),\n",
    "                        ('logistic', LogisticRegression(penalty='l1', random_state=0, solver='liblinear', max_iter=5000))])\n",
    "       search = GridSearchCV(pipe, \n",
    "                             param_grid, \n",
    "                             n_jobs=-1\n",
    "                             #, error_score='raise'\n",
    "                             )\n",
    "       clf = search.fit(X_train, y_train)\n",
    "\n",
    "       for param in search.best_params_.keys():\n",
    "              best_params[param].append(search.best_params_[param])\n",
    "\n",
    "       train_eval = evaluation(clf, X_train, y_train)\n",
    "       train_metrics['accuracy'].append(train_eval[0])\n",
    "       train_metrics['precision'].append(train_eval[1])\n",
    "       train_metrics['recall'].append(train_eval[2])\n",
    "       train_metrics['f1'].append(train_eval[3])\n",
    "       train_metrics['ROC AUC'].append(train_eval[4])\n",
    "       \n",
    "       ax0.plot(train_eval[5], train_eval[6], label = str(fold))\n",
    "\n",
    "       test_eval = evaluation(clf, X_test, y_test)\n",
    "       test_metrics['accuracy'].append(test_eval[0])\n",
    "       test_metrics['precision'].append(test_eval[1])\n",
    "       test_metrics['recall'].append(test_eval[2])\n",
    "       test_metrics['f1'].append(test_eval[3])\n",
    "       test_metrics['ROC AUC'].append(test_eval[4])\n",
    "       \n",
    "       ax1.plot(test_eval[5], test_eval[6], label = str(fold))\n",
    "\n",
    "       print(f\"Train: \\n{train_eval[7]}\")\n",
    "       print(f\"Test: \\n{test_eval[7]}\")\n",
    "\n",
    "       fold += 1\n",
    "\n",
    "ax0.set(title= 'TRAIN - ROC AUC',\n",
    "       xlabel = 'FPR',\n",
    "       ylabel ='TPR')\n",
    "ax1.set(title= 'TEST - ROC AUC',\n",
    "       xlabel = 'FPR',\n",
    "       ylabel ='TPR')\n",
    "add_identity(ax0, color=\"r\", ls=\"--\",label = 'no skill')\n",
    "add_identity(ax1, color=\"r\", ls=\"--\",label = 'no skill')\n",
    "ax0.legend(frameon=False, loc='lower right', title='Fold:')\n",
    "ax1.legend(frameon=False, loc='lower right', title='Fold:')"
   ]
  },
  {
   "cell_type": "code",
   "execution_count": null,
   "metadata": {},
   "outputs": [],
   "source": [
    "performance_train = pd.DataFrame(data=train_metrics, index=range(1, 6))\n",
    "performance_train"
   ]
  },
  {
   "cell_type": "code",
   "execution_count": null,
   "metadata": {},
   "outputs": [],
   "source": [
    "print(f\"Performance averaged over 5 folds:\")\n",
    "for column in ['accuracy', 'precision', 'recall', 'f1', 'ROC AUC']:\n",
    "    print(f\"{column} = {performance_train[column].mean():.4f} ± {performance_train[column].std():.4f}\")"
   ]
  },
  {
   "cell_type": "code",
   "execution_count": null,
   "metadata": {},
   "outputs": [],
   "source": [
    "param_grid"
   ]
  },
  {
   "cell_type": "code",
   "execution_count": null,
   "metadata": {},
   "outputs": [],
   "source": [
    "best_params = pd.DataFrame(data=best_params, index=range(1,6))\n",
    "best_params"
   ]
  },
  {
   "cell_type": "code",
   "execution_count": null,
   "metadata": {},
   "outputs": [],
   "source": [
    "performance_test = pd.DataFrame(data=test_metrics, index=range(1, 6))\n",
    "performance_test"
   ]
  },
  {
   "cell_type": "code",
   "execution_count": null,
   "metadata": {},
   "outputs": [],
   "source": [
    "print(f\"Performance averaged over 5 folds:\")\n",
    "for column in ['accuracy', 'precision', 'recall', 'f1', 'ROC AUC']:\n",
    "    print(f\"{column} = {performance_test[column].mean():.4f} ± {performance_test[column].std():.4f}\")"
   ]
  }
 ],
 "metadata": {
  "kernelspec": {
   "display_name": "Python 3 (ipykernel)",
   "language": "python",
   "name": "python3"
  },
  "language_info": {
   "codemirror_mode": {
    "name": "ipython",
    "version": 3
   },
   "file_extension": ".py",
   "mimetype": "text/x-python",
   "name": "python",
   "nbconvert_exporter": "python",
   "pygments_lexer": "ipython3",
   "version": "3.11.6"
  },
  "toc-autonumbering": true,
  "toc-showmarkdowntxt": false
 },
 "nbformat": 4,
 "nbformat_minor": 4
}
